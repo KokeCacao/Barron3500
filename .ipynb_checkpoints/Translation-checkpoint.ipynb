{
 "cells": [
  {
   "cell_type": "code",
   "execution_count": 14,
   "metadata": {},
   "outputs": [
    {
     "name": "stdout",
     "output_type": "stream",
     "text": [
      "Text: Hello, world!\n",
      "Translation: こんにちは世界！\n"
     ]
    }
   ],
   "source": [
    "# https://cloud.google.com/translate/docs/reference/libraries\n",
    "# You should enable the service here: https://console.cloud.google.com/apis/library/translate.googleapis.com/?q=translate&id=c22f20ba-6a29-40ae-9084-8bc264a97fc2&project=goo-gle-206519\n",
    "\n",
    "# Imports the Google Cloud client library\n",
    "from google.cloud import translate\n",
    "\n",
    "# Instantiates a client\n",
    "# translate_client = translate.Client()\n",
    "translate_client = translate.Client.from_service_account_json('E:\\Koke_Cacao\\Python\\WorkSpace\\Barron3500\\GoogleTranslate-6988f726ef72.json')\n",
    "\n",
    "# The text to translate\n",
    "text = u'Hello, world!'\n",
    "# The target language\n",
    "target = 'ja'\n",
    "\n",
    "# Translates some text into Russian\n",
    "translation = translate_client.translate(\n",
    "    text,\n",
    "    target_language=target)\n",
    "\n",
    "print(u'Text: {}'.format(text))\n",
    "print(u'Translation: {}'.format(translation['translatedText']))"
   ]
  },
  {
   "cell_type": "code",
   "execution_count": 16,
   "metadata": {
    "collapsed": true
   },
   "outputs": [],
   "source": [
    "def translate (text, language):\n",
    "    translation = translate_client.translate(text,target_language=language)\n",
    "    return (u'Translation: {}'.format(translation['translatedText']))"
   ]
  },
  {
   "cell_type": "code",
   "execution_count": null,
   "metadata": {
    "collapsed": true
   },
   "outputs": [],
   "source": [
    "#coding:utf-8\n",
    "import codecs\n",
    " \n",
    "f = codecs.open(r'E:\\Koke_Cacao\\Python\\WorkSpace\\Barron3500\\word.txt', 'r+', encoding='utf-8')\n",
    "\n",
    "for eachline in f.readlines():\n",
    "    \n",
    "    print (eachline)\n",
    "    \n",
    "#f.write(u'这才是utf-8编码的文件')\n",
    "f.close()"
   ]
  }
 ],
 "metadata": {
  "kernelspec": {
   "display_name": "Python 3",
   "language": "python",
   "name": "python3"
  },
  "language_info": {
   "codemirror_mode": {
    "name": "ipython",
    "version": 3
   },
   "file_extension": ".py",
   "mimetype": "text/x-python",
   "name": "python",
   "nbconvert_exporter": "python",
   "pygments_lexer": "ipython3",
   "version": "3.6.3"
  }
 },
 "nbformat": 4,
 "nbformat_minor": 2
}
